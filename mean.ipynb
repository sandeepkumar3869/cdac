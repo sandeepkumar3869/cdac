{
 "cells": [
  {
   "cell_type": "code",
   "execution_count": 891,
   "metadata": {},
   "outputs": [],
   "source": [
    "import pandas as pd\n",
    "import random\n",
    "# import sqlite3\n",
    "import numpy as np\n",
    "\n"
   ]
  },
  {
   "cell_type": "code",
   "execution_count": 892,
   "metadata": {},
   "outputs": [
    {
     "data": {
      "text/plain": [
       "array([55.72191088, 52.70681721, 50.95805126, 46.47615514, 53.14151965,\n",
       "       41.72664241, 65.26647834, 48.70326412, 59.70665078, 39.30117417,\n",
       "       49.35091225, 58.44716644, 56.03011118, 32.09028041, 48.7221998 ,\n",
       "       62.55489609, 45.85520189, 46.9701061 , 56.47755014, 55.5592185 ,\n",
       "       42.27930096, 44.72679852, 41.1262375 , 61.01332531, 53.69222472,\n",
       "       46.04199002, 71.8712896 , 48.65835225, 62.94965046, 48.06694766,\n",
       "       53.98723846, 49.63641406, 43.13260067, 42.10776394, 50.01586781,\n",
       "       72.16506309, 67.01551231, 35.23941285, 39.01621844, 56.98539203,\n",
       "       40.26862726, 36.06565529, 54.48945118, 54.5029872 , 67.63794257,\n",
       "       46.41043412, 64.59513064, 36.41824983, 55.60777361, 54.59346085])"
      ]
     },
     "execution_count": 892,
     "metadata": {},
     "output_type": "execute_result"
    }
   ],
   "source": [
    "rawdts = np.random.normal(50,10,50)\n",
    "rawdts\n",
    "\n",
    "\n",
    "# print(rawdts.mean())\n"
   ]
  },
  {
   "cell_type": "code",
   "execution_count": 893,
   "metadata": {},
   "outputs": [
    {
     "data": {
      "text/html": [
       "<div>\n",
       "<style scoped>\n",
       "    .dataframe tbody tr th:only-of-type {\n",
       "        vertical-align: middle;\n",
       "    }\n",
       "\n",
       "    .dataframe tbody tr th {\n",
       "        vertical-align: top;\n",
       "    }\n",
       "\n",
       "    .dataframe thead th {\n",
       "        text-align: right;\n",
       "    }\n",
       "</style>\n",
       "<table border=\"1\" class=\"dataframe\">\n",
       "  <thead>\n",
       "    <tr style=\"text-align: right;\">\n",
       "      <th></th>\n",
       "      <th>x</th>\n",
       "    </tr>\n",
       "  </thead>\n",
       "  <tbody>\n",
       "    <tr>\n",
       "      <th>0</th>\n",
       "      <td>55.721911</td>\n",
       "    </tr>\n",
       "    <tr>\n",
       "      <th>1</th>\n",
       "      <td>52.706817</td>\n",
       "    </tr>\n",
       "    <tr>\n",
       "      <th>2</th>\n",
       "      <td>50.958051</td>\n",
       "    </tr>\n",
       "    <tr>\n",
       "      <th>3</th>\n",
       "      <td>46.476155</td>\n",
       "    </tr>\n",
       "    <tr>\n",
       "      <th>4</th>\n",
       "      <td>53.141520</td>\n",
       "    </tr>\n",
       "  </tbody>\n",
       "</table>\n",
       "</div>"
      ],
      "text/plain": [
       "           x\n",
       "0  55.721911\n",
       "1  52.706817\n",
       "2  50.958051\n",
       "3  46.476155\n",
       "4  53.141520"
      ]
     },
     "execution_count": 893,
     "metadata": {},
     "output_type": "execute_result"
    }
   ],
   "source": [
    "dta = pd.DataFrame((rawdts),columns=['x'])\n",
    "dta.head()"
   ]
  },
  {
   "cell_type": "code",
   "execution_count": 894,
   "metadata": {},
   "outputs": [
    {
     "name": "stdout",
     "output_type": "stream",
     "text": [
      "51.32167239954143\n"
     ]
    }
   ],
   "source": [
    "print(dta['x'].mean())"
   ]
  },
  {
   "cell_type": "code",
   "execution_count": 895,
   "metadata": {},
   "outputs": [
    {
     "name": "stdout",
     "output_type": "stream",
     "text": [
      "50.48695953665629\n"
     ]
    }
   ],
   "source": [
    "print(dta['x'].median())"
   ]
  },
  {
   "cell_type": "code",
   "execution_count": 896,
   "metadata": {},
   "outputs": [
    {
     "name": "stdout",
     "output_type": "stream",
     "text": [
      "51\n"
     ]
    }
   ],
   "source": [
    "print(round(dta['x'].mean()))\n",
    "\n"
   ]
  },
  {
   "cell_type": "code",
   "execution_count": 897,
   "metadata": {},
   "outputs": [
    {
     "data": {
      "text/html": [
       "<div>\n",
       "<style scoped>\n",
       "    .dataframe tbody tr th:only-of-type {\n",
       "        vertical-align: middle;\n",
       "    }\n",
       "\n",
       "    .dataframe tbody tr th {\n",
       "        vertical-align: top;\n",
       "    }\n",
       "\n",
       "    .dataframe thead th {\n",
       "        text-align: right;\n",
       "    }\n",
       "</style>\n",
       "<table border=\"1\" class=\"dataframe\">\n",
       "  <thead>\n",
       "    <tr style=\"text-align: right;\">\n",
       "      <th></th>\n",
       "      <th>x</th>\n",
       "    </tr>\n",
       "  </thead>\n",
       "  <tbody>\n",
       "    <tr>\n",
       "      <th>0</th>\n",
       "      <td>7.104130e+08</td>\n",
       "    </tr>\n",
       "    <tr>\n",
       "      <th>1</th>\n",
       "      <td>7.145737e+07</td>\n",
       "    </tr>\n",
       "    <tr>\n",
       "      <th>2</th>\n",
       "      <td>1.923251e+08</td>\n",
       "    </tr>\n",
       "    <tr>\n",
       "      <th>3</th>\n",
       "      <td>3.217924e+08</td>\n",
       "    </tr>\n",
       "    <tr>\n",
       "      <th>4</th>\n",
       "      <td>1.051947e+09</td>\n",
       "    </tr>\n",
       "  </tbody>\n",
       "</table>\n",
       "</div>"
      ],
      "text/plain": [
       "              x\n",
       "0  7.104130e+08\n",
       "1  7.145737e+07\n",
       "2  1.923251e+08\n",
       "3  3.217924e+08\n",
       "4  1.051947e+09"
      ]
     },
     "execution_count": 897,
     "metadata": {},
     "output_type": "execute_result"
    }
   ],
   "source": [
    "rawdts = np.random.normal(50,10,50)**5\n",
    "dta = pd.DataFrame((rawdts),columns=['x'])\n",
    "dta.head()"
   ]
  },
  {
   "cell_type": "code",
   "execution_count": 898,
   "metadata": {},
   "outputs": [
    {
     "name": "stdout",
     "output_type": "stream",
     "text": [
      "462466745.52172905\n",
      "267692543.71636117\n",
      "462466746\n"
     ]
    }
   ],
   "source": [
    "print(dta['x'].mean())\n",
    "print(dta['x'].median())\n",
    "print(round(dta['x'].mean()))"
   ]
  },
  {
   "cell_type": "code",
   "execution_count": 899,
   "metadata": {},
   "outputs": [
    {
     "data": {
      "text/html": [
       "<div>\n",
       "<style scoped>\n",
       "    .dataframe tbody tr th:only-of-type {\n",
       "        vertical-align: middle;\n",
       "    }\n",
       "\n",
       "    .dataframe tbody tr th {\n",
       "        vertical-align: top;\n",
       "    }\n",
       "\n",
       "    .dataframe thead th {\n",
       "        text-align: right;\n",
       "    }\n",
       "</style>\n",
       "<table border=\"1\" class=\"dataframe\">\n",
       "  <thead>\n",
       "    <tr style=\"text-align: right;\">\n",
       "      <th></th>\n",
       "      <th>Season</th>\n",
       "      <th>Name</th>\n",
       "      <th>Nationality</th>\n",
       "      <th>Type</th>\n",
       "      <th>Team</th>\n",
       "      <th>Price</th>\n",
       "    </tr>\n",
       "  </thead>\n",
       "  <tbody>\n",
       "    <tr>\n",
       "      <th>0</th>\n",
       "      <td>2023</td>\n",
       "      <td>Ajinkya Rahane</td>\n",
       "      <td>Indian</td>\n",
       "      <td>Batter</td>\n",
       "      <td>Chennai Super Kings</td>\n",
       "      <td>50,00,000</td>\n",
       "    </tr>\n",
       "    <tr>\n",
       "      <th>1</th>\n",
       "      <td>2023</td>\n",
       "      <td>Bhagath Varma</td>\n",
       "      <td>Indian</td>\n",
       "      <td>All-Rounder</td>\n",
       "      <td>Chennai Super Kings</td>\n",
       "      <td>20,00,000</td>\n",
       "    </tr>\n",
       "    <tr>\n",
       "      <th>2</th>\n",
       "      <td>2023</td>\n",
       "      <td>Kyle Jamieson</td>\n",
       "      <td>Overseas</td>\n",
       "      <td>Bowler</td>\n",
       "      <td>Chennai Super Kings</td>\n",
       "      <td>1,00,00,000</td>\n",
       "    </tr>\n",
       "    <tr>\n",
       "      <th>3</th>\n",
       "      <td>2023</td>\n",
       "      <td>Ajay Mandal</td>\n",
       "      <td>Indian</td>\n",
       "      <td>All-Rounder</td>\n",
       "      <td>Chennai Super Kings</td>\n",
       "      <td>20,00,000</td>\n",
       "    </tr>\n",
       "    <tr>\n",
       "      <th>4</th>\n",
       "      <td>2023</td>\n",
       "      <td>Nishant Sindhu</td>\n",
       "      <td>Indian</td>\n",
       "      <td>All-Rounder</td>\n",
       "      <td>Chennai Super Kings</td>\n",
       "      <td>60,00,000</td>\n",
       "    </tr>\n",
       "  </tbody>\n",
       "</table>\n",
       "</div>"
      ],
      "text/plain": [
       "   Season             Name Nationality          Type                  Team  \\\n",
       "0    2023  Ajinkya Rahane      Indian        Batter    Chennai Super Kings   \n",
       "1    2023   Bhagath Varma      Indian   All-Rounder    Chennai Super Kings   \n",
       "2    2023   Kyle Jamieson    Overseas        Bowler    Chennai Super Kings   \n",
       "3    2023     Ajay Mandal      Indian   All-Rounder    Chennai Super Kings   \n",
       "4    2023  Nishant Sindhu      Indian   All-Rounder    Chennai Super Kings   \n",
       "\n",
       "          Price  \n",
       "0    50,00,000   \n",
       "1    20,00,000   \n",
       "2  1,00,00,000   \n",
       "3    20,00,000   \n",
       "4    60,00,000   "
      ]
     },
     "execution_count": 899,
     "metadata": {},
     "output_type": "execute_result"
    }
   ],
   "source": [
    "ipldta= pd.read_csv('IPL_2023-22_Sold_Players.csv')\n",
    "\n",
    "ipldta.head()"
   ]
  },
  {
   "cell_type": "code",
   "execution_count": null,
   "metadata": {},
   "outputs": [],
   "source": []
  },
  {
   "cell_type": "code",
   "execution_count": 900,
   "metadata": {},
   "outputs": [
    {
     "name": "stdout",
     "output_type": "stream",
     "text": [
      "Season                                 2022\n",
      "Name                        Mahipal Lomror \n",
      "Nationality                         Indian \n",
      "Type                           All-Rounder \n",
      "Team            Royal Challengers Bangalore\n",
      "Price                            95,00,000 \n",
      "Name: 254, dtype: object\n"
     ]
    }
   ],
   "source": [
    "# print(ipldta['Price'].max())\n",
    "\n",
    "print(ipldta.loc[ipldta['Price'].idxmax()])\n",
    "\n",
    "\n",
    "\n",
    "\n"
   ]
  },
  {
   "cell_type": "code",
   "execution_count": 901,
   "metadata": {},
   "outputs": [
    {
     "data": {
      "text/plain": [
       "28500000.0"
      ]
     },
     "execution_count": 901,
     "metadata": {},
     "output_type": "execute_result"
    }
   ],
   "source": [
    "sold = []\n",
    "for i in ipldta['Price']:\n",
    "    sold.append(int(i.replace(',','').strip()))\n",
    "\n",
    "sold\n",
    "\n",
    "def iqr(k):\n",
    "    k = sorted(k)\n",
    "    n = len(k)\n",
    "    q1 = np.percentile(k, 25)\n",
    "    q3 = np.percentile(k, 75)\n",
    "    \n",
    "\n",
    "    return q3-q1\n",
    "\n",
    "\n",
    "iqr(sold)"
   ]
  },
  {
   "cell_type": "code",
   "execution_count": 902,
   "metadata": {},
   "outputs": [
    {
     "name": "stdout",
     "output_type": "stream",
     "text": [
      "7500000.0\n"
     ]
    }
   ],
   "source": [
    "solidd = sorted(sold)\n",
    "\n",
    "\n",
    "\n",
    "\n",
    "k = len(sold)\n",
    "\n",
    "\n",
    "if k%2 !=0:\n",
    "    print(solidd[int(len(solidd)//2)])\n",
    "    \n",
    "    \n",
    "else:\n",
    "    \n",
    "    \n",
    "    print((solidd[int(len(solidd)//2)]+solidd[int(len(solidd)//2)-1])/2)"
   ]
  },
  {
   "cell_type": "code",
   "execution_count": 903,
   "metadata": {},
   "outputs": [
    {
     "name": "stdout",
     "output_type": "stream",
     "text": [
      "3\n",
      "3.5\n"
     ]
    }
   ],
   "source": [
    "solidd = [1,2,3,4,5,6]\n",
    "\n",
    "\n",
    "print(len(solidd)//2)\n",
    "\n",
    "\n",
    "print((solidd[int(len(solidd)//2)]+solidd[int(len(solidd)//2)-1])/2)"
   ]
  },
  {
   "cell_type": "code",
   "execution_count": null,
   "metadata": {},
   "outputs": [],
   "source": []
  }
 ],
 "metadata": {
  "kernelspec": {
   "display_name": "base",
   "language": "python",
   "name": "python3"
  },
  "language_info": {
   "codemirror_mode": {
    "name": "ipython",
    "version": 3
   },
   "file_extension": ".py",
   "mimetype": "text/x-python",
   "name": "python",
   "nbconvert_exporter": "python",
   "pygments_lexer": "ipython3",
   "version": "3.11.8"
  }
 },
 "nbformat": 4,
 "nbformat_minor": 2
}
