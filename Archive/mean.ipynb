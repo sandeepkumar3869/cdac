{
 "cells": [
  {
   "cell_type": "code",
   "execution_count": 1,
   "metadata": {},
   "outputs": [],
   "source": [
    "import pandas as pd\n",
    "import random\n",
    "# import sqlite3\n",
    "import numpy as np\n",
    "\n"
   ]
  },
  {
   "cell_type": "code",
   "execution_count": 2,
   "metadata": {},
   "outputs": [
    {
     "data": {
      "text/plain": [
       "array([46.16882786, 64.4025874 , 53.80118813, 62.24969683, 51.96425399,\n",
       "       43.25612299, 45.67355075, 57.27800954, 44.51070496, 53.58779035,\n",
       "       43.50784603, 35.8731697 , 47.38611111, 42.71227788, 41.68301982,\n",
       "       41.35605431, 54.55082881, 44.43528438, 40.51081684, 55.80755701,\n",
       "       54.99343406, 37.60165061, 61.06556985, 43.39774538, 62.18386657,\n",
       "       60.16179588, 48.3002233 , 44.54125251, 53.52723329, 36.04599119,\n",
       "       45.4475667 , 57.70562766, 46.71819201, 37.03072653, 51.08122704,\n",
       "       49.82741963, 53.56882565, 40.12568153, 42.73074585, 52.99989523,\n",
       "       49.38696234, 58.50379401, 54.35488953, 66.94967185, 51.73844591,\n",
       "       65.54630199, 25.70255682, 47.81156642, 57.98711484, 35.52006259])"
      ]
     },
     "execution_count": 2,
     "metadata": {},
     "output_type": "execute_result"
    }
   ],
   "source": [
    "rawdts = np.random.normal(50,10,50)\n",
    "rawdts\n",
    "\n",
    "\n",
    "# print(rawdts.mean())\n"
   ]
  },
  {
   "cell_type": "code",
   "execution_count": 3,
   "metadata": {},
   "outputs": [
    {
     "data": {
      "text/html": [
       "<div>\n",
       "<style scoped>\n",
       "    .dataframe tbody tr th:only-of-type {\n",
       "        vertical-align: middle;\n",
       "    }\n",
       "\n",
       "    .dataframe tbody tr th {\n",
       "        vertical-align: top;\n",
       "    }\n",
       "\n",
       "    .dataframe thead th {\n",
       "        text-align: right;\n",
       "    }\n",
       "</style>\n",
       "<table border=\"1\" class=\"dataframe\">\n",
       "  <thead>\n",
       "    <tr style=\"text-align: right;\">\n",
       "      <th></th>\n",
       "      <th>x</th>\n",
       "    </tr>\n",
       "  </thead>\n",
       "  <tbody>\n",
       "    <tr>\n",
       "      <th>0</th>\n",
       "      <td>46.168828</td>\n",
       "    </tr>\n",
       "    <tr>\n",
       "      <th>1</th>\n",
       "      <td>64.402587</td>\n",
       "    </tr>\n",
       "    <tr>\n",
       "      <th>2</th>\n",
       "      <td>53.801188</td>\n",
       "    </tr>\n",
       "    <tr>\n",
       "      <th>3</th>\n",
       "      <td>62.249697</td>\n",
       "    </tr>\n",
       "    <tr>\n",
       "      <th>4</th>\n",
       "      <td>51.964254</td>\n",
       "    </tr>\n",
       "  </tbody>\n",
       "</table>\n",
       "</div>"
      ],
      "text/plain": [
       "           x\n",
       "0  46.168828\n",
       "1  64.402587\n",
       "2  53.801188\n",
       "3  62.249697\n",
       "4  51.964254"
      ]
     },
     "execution_count": 3,
     "metadata": {},
     "output_type": "execute_result"
    }
   ],
   "source": [
    "dta = pd.DataFrame((rawdts),columns=['x'])\n",
    "dta.head()"
   ]
  },
  {
   "cell_type": "code",
   "execution_count": 4,
   "metadata": {},
   "outputs": [
    {
     "name": "stdout",
     "output_type": "stream",
     "text": [
      "49.265434708728606\n"
     ]
    }
   ],
   "source": [
    "print(dta['x'].mean())"
   ]
  },
  {
   "cell_type": "code",
   "execution_count": 5,
   "metadata": {},
   "outputs": [
    {
     "name": "stdout",
     "output_type": "stream",
     "text": [
      "48.84359281896669\n"
     ]
    }
   ],
   "source": [
    "print(dta['x'].median())"
   ]
  },
  {
   "cell_type": "code",
   "execution_count": 6,
   "metadata": {},
   "outputs": [
    {
     "name": "stdout",
     "output_type": "stream",
     "text": [
      "49\n"
     ]
    }
   ],
   "source": [
    "print(round(dta['x'].mean()))\n",
    "\n"
   ]
  },
  {
   "cell_type": "code",
   "execution_count": 7,
   "metadata": {},
   "outputs": [
    {
     "data": {
      "text/html": [
       "<div>\n",
       "<style scoped>\n",
       "    .dataframe tbody tr th:only-of-type {\n",
       "        vertical-align: middle;\n",
       "    }\n",
       "\n",
       "    .dataframe tbody tr th {\n",
       "        vertical-align: top;\n",
       "    }\n",
       "\n",
       "    .dataframe thead th {\n",
       "        text-align: right;\n",
       "    }\n",
       "</style>\n",
       "<table border=\"1\" class=\"dataframe\">\n",
       "  <thead>\n",
       "    <tr style=\"text-align: right;\">\n",
       "      <th></th>\n",
       "      <th>x</th>\n",
       "    </tr>\n",
       "  </thead>\n",
       "  <tbody>\n",
       "    <tr>\n",
       "      <th>0</th>\n",
       "      <td>2.377734e+07</td>\n",
       "    </tr>\n",
       "    <tr>\n",
       "      <th>1</th>\n",
       "      <td>5.954247e+08</td>\n",
       "    </tr>\n",
       "    <tr>\n",
       "      <th>2</th>\n",
       "      <td>5.396418e+08</td>\n",
       "    </tr>\n",
       "    <tr>\n",
       "      <th>3</th>\n",
       "      <td>1.160532e+09</td>\n",
       "    </tr>\n",
       "    <tr>\n",
       "      <th>4</th>\n",
       "      <td>7.582145e+08</td>\n",
       "    </tr>\n",
       "  </tbody>\n",
       "</table>\n",
       "</div>"
      ],
      "text/plain": [
       "              x\n",
       "0  2.377734e+07\n",
       "1  5.954247e+08\n",
       "2  5.396418e+08\n",
       "3  1.160532e+09\n",
       "4  7.582145e+08"
      ]
     },
     "execution_count": 7,
     "metadata": {},
     "output_type": "execute_result"
    }
   ],
   "source": [
    "rawdts = np.random.normal(50,10,50)**5\n",
    "dta = pd.DataFrame((rawdts),columns=['x'])\n",
    "dta.head()"
   ]
  },
  {
   "cell_type": "code",
   "execution_count": 8,
   "metadata": {},
   "outputs": [
    {
     "name": "stdout",
     "output_type": "stream",
     "text": [
      "448828337.84209913\n",
      "291289683.29875094\n",
      "448828338\n"
     ]
    }
   ],
   "source": [
    "print(dta['x'].mean())\n",
    "print(dta['x'].median())\n",
    "print(round(dta['x'].mean()))"
   ]
  },
  {
   "cell_type": "code",
   "execution_count": 9,
   "metadata": {},
   "outputs": [
    {
     "data": {
      "text/html": [
       "<div>\n",
       "<style scoped>\n",
       "    .dataframe tbody tr th:only-of-type {\n",
       "        vertical-align: middle;\n",
       "    }\n",
       "\n",
       "    .dataframe tbody tr th {\n",
       "        vertical-align: top;\n",
       "    }\n",
       "\n",
       "    .dataframe thead th {\n",
       "        text-align: right;\n",
       "    }\n",
       "</style>\n",
       "<table border=\"1\" class=\"dataframe\">\n",
       "  <thead>\n",
       "    <tr style=\"text-align: right;\">\n",
       "      <th></th>\n",
       "      <th>Season</th>\n",
       "      <th>Name</th>\n",
       "      <th>Nationality</th>\n",
       "      <th>Type</th>\n",
       "      <th>Team</th>\n",
       "      <th>Price</th>\n",
       "    </tr>\n",
       "  </thead>\n",
       "  <tbody>\n",
       "    <tr>\n",
       "      <th>0</th>\n",
       "      <td>2023</td>\n",
       "      <td>Ajinkya Rahane</td>\n",
       "      <td>Indian</td>\n",
       "      <td>Batter</td>\n",
       "      <td>Chennai Super Kings</td>\n",
       "      <td>50,00,000</td>\n",
       "    </tr>\n",
       "    <tr>\n",
       "      <th>1</th>\n",
       "      <td>2023</td>\n",
       "      <td>Bhagath Varma</td>\n",
       "      <td>Indian</td>\n",
       "      <td>All-Rounder</td>\n",
       "      <td>Chennai Super Kings</td>\n",
       "      <td>20,00,000</td>\n",
       "    </tr>\n",
       "    <tr>\n",
       "      <th>2</th>\n",
       "      <td>2023</td>\n",
       "      <td>Kyle Jamieson</td>\n",
       "      <td>Overseas</td>\n",
       "      <td>Bowler</td>\n",
       "      <td>Chennai Super Kings</td>\n",
       "      <td>1,00,00,000</td>\n",
       "    </tr>\n",
       "    <tr>\n",
       "      <th>3</th>\n",
       "      <td>2023</td>\n",
       "      <td>Ajay Mandal</td>\n",
       "      <td>Indian</td>\n",
       "      <td>All-Rounder</td>\n",
       "      <td>Chennai Super Kings</td>\n",
       "      <td>20,00,000</td>\n",
       "    </tr>\n",
       "    <tr>\n",
       "      <th>4</th>\n",
       "      <td>2023</td>\n",
       "      <td>Nishant Sindhu</td>\n",
       "      <td>Indian</td>\n",
       "      <td>All-Rounder</td>\n",
       "      <td>Chennai Super Kings</td>\n",
       "      <td>60,00,000</td>\n",
       "    </tr>\n",
       "  </tbody>\n",
       "</table>\n",
       "</div>"
      ],
      "text/plain": [
       "   Season             Name Nationality          Type                  Team  \\\n",
       "0    2023  Ajinkya Rahane      Indian        Batter    Chennai Super Kings   \n",
       "1    2023   Bhagath Varma      Indian   All-Rounder    Chennai Super Kings   \n",
       "2    2023   Kyle Jamieson    Overseas        Bowler    Chennai Super Kings   \n",
       "3    2023     Ajay Mandal      Indian   All-Rounder    Chennai Super Kings   \n",
       "4    2023  Nishant Sindhu      Indian   All-Rounder    Chennai Super Kings   \n",
       "\n",
       "          Price  \n",
       "0    50,00,000   \n",
       "1    20,00,000   \n",
       "2  1,00,00,000   \n",
       "3    20,00,000   \n",
       "4    60,00,000   "
      ]
     },
     "execution_count": 9,
     "metadata": {},
     "output_type": "execute_result"
    }
   ],
   "source": [
    "ipldta= pd.read_csv('IPL_2023-22_Sold_Players.csv')\n",
    "\n",
    "ipldta.head()"
   ]
  },
  {
   "cell_type": "code",
   "execution_count": null,
   "metadata": {},
   "outputs": [],
   "source": []
  },
  {
   "cell_type": "code",
   "execution_count": 10,
   "metadata": {},
   "outputs": [
    {
     "name": "stdout",
     "output_type": "stream",
     "text": [
      "Season                                 2022\n",
      "Name                        Mahipal Lomror \n",
      "Nationality                         Indian \n",
      "Type                           All-Rounder \n",
      "Team            Royal Challengers Bangalore\n",
      "Price                            95,00,000 \n",
      "Name: 254, dtype: object\n"
     ]
    }
   ],
   "source": [
    "# print(ipldta['Price'].max())\n",
    "\n",
    "print(ipldta.loc[ipldta['Price'].idxmax()])\n",
    "\n",
    "\n",
    "\n",
    "\n"
   ]
  },
  {
   "cell_type": "code",
   "execution_count": 11,
   "metadata": {},
   "outputs": [
    {
     "data": {
      "text/plain": [
       "28500000.0"
      ]
     },
     "execution_count": 11,
     "metadata": {},
     "output_type": "execute_result"
    }
   ],
   "source": [
    "sold = []\n",
    "for i in ipldta['Price']:\n",
    "    sold.append(int(i.replace(',','').strip()))\n",
    "\n",
    "sold\n",
    "\n",
    "def iqr(k):\n",
    "    k = sorted(k)\n",
    "    n = len(k)\n",
    "    q1 = np.percentile(k, 25)\n",
    "    q3 = np.percentile(k, 75)\n",
    "    \n",
    "\n",
    "    return q3-q1\n",
    "\n",
    "\n",
    "iqr(sold)"
   ]
  },
  {
   "cell_type": "code",
   "execution_count": 12,
   "metadata": {},
   "outputs": [
    {
     "name": "stdout",
     "output_type": "stream",
     "text": [
      "7500000.0\n"
     ]
    }
   ],
   "source": [
    "solidd = sorted(sold)\n",
    "\n",
    "\n",
    "\n",
    "\n",
    "k = len(sold)\n",
    "\n",
    "\n",
    "if k%2 !=0:\n",
    "    print(solidd[int(len(solidd)//2)])\n",
    "    \n",
    "    \n",
    "else:\n",
    "    \n",
    "    \n",
    "    print((solidd[int(len(solidd)//2)]+solidd[int(len(solidd)//2)-1])/2)"
   ]
  },
  {
   "cell_type": "code",
   "execution_count": 13,
   "metadata": {},
   "outputs": [
    {
     "name": "stdout",
     "output_type": "stream",
     "text": [
      "3\n",
      "3.5\n"
     ]
    }
   ],
   "source": [
    "solidd = [1,2,3,4,5,6]\n",
    "\n",
    "\n",
    "print(len(solidd)//2)\n",
    "\n",
    "\n",
    "print((solidd[int(len(solidd)//2)]+solidd[int(len(solidd)//2)-1])/2)"
   ]
  },
  {
   "cell_type": "code",
   "execution_count": null,
   "metadata": {},
   "outputs": [],
   "source": []
  }
 ],
 "metadata": {
  "kernelspec": {
   "display_name": "base",
   "language": "python",
   "name": "python3"
  },
  "language_info": {
   "codemirror_mode": {
    "name": "ipython",
    "version": 3
   },
   "file_extension": ".py",
   "mimetype": "text/x-python",
   "name": "python",
   "nbconvert_exporter": "python",
   "pygments_lexer": "ipython3",
   "version": "3.11.8"
  }
 },
 "nbformat": 4,
 "nbformat_minor": 2
}
