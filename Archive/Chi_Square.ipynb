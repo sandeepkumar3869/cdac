{
 "cells": [
  {
   "cell_type": "markdown",
   "metadata": {
    "id": "Eh-WgAwjYBwe"
   },
   "source": [
    "Chi-Square Goodness fit test"
   ]
  },
  {
   "cell_type": "code",
   "execution_count": 1,
   "metadata": {
    "colab": {
     "base_uri": "https://localhost:8080/"
    },
    "id": "fYjfpar3YIUv",
    "outputId": "b1e2d50c-f848-45a9-87b9-2449233fc958"
   },
   "outputs": [
    {
     "name": "stdout",
     "output_type": "stream",
     "text": [
      "[175.0, 200.0, 100.0, 25.0]\n"
     ]
    }
   ],
   "source": [
    "#From the data we can create the following\n",
    "## Observed frequencies\n",
    "f_obs = [190, 185, 90, 35]\n",
    "## Expected frquencies from the percentages expected\n",
    "f_exp = [500*0.35, 500*0.4, 500*.2, 500*0.05]\n",
    "print( f_exp )"
   ]
  },
  {
   "cell_type": "code",
   "execution_count": 2,
   "metadata": {
    "colab": {
     "base_uri": "https://localhost:8080/"
    },
    "id": "lVQw0qyGZQtN",
    "outputId": "fd02d0df-dbdb-4d54-e4fe-d14f59505eca"
   },
   "outputs": [
    {
     "data": {
      "text/plain": [
       "Power_divergenceResult(statistic=7.410714285714286, pvalue=0.05989751420084909)"
      ]
     },
     "execution_count": 2,
     "metadata": {},
     "output_type": "execute_result"
    }
   ],
   "source": [
    "#Conducting test\n",
    "from scipy import stats\n",
    "stats.chisquare( f_obs, f_exp )"
   ]
  },
  {
   "cell_type": "code",
   "execution_count": 3,
   "metadata": {
    "id": "dgomlNpOZ9Ov"
   },
   "outputs": [],
   "source": [
    "#the return is (Chi-Statistics,p)\n",
    "#Since 5.98% probability is more than 5%\n",
    "#Hence hypothesis is accepted"
   ]
  }
 ],
 "metadata": {
  "colab": {
   "provenance": []
  },
  "kernelspec": {
   "display_name": "base",
   "language": "python",
   "name": "python3"
  },
  "language_info": {
   "codemirror_mode": {
    "name": "ipython",
    "version": 3
   },
   "file_extension": ".py",
   "mimetype": "text/x-python",
   "name": "python",
   "nbconvert_exporter": "python",
   "pygments_lexer": "ipython3",
   "version": "3.11.8"
  }
 },
 "nbformat": 4,
 "nbformat_minor": 0
}
