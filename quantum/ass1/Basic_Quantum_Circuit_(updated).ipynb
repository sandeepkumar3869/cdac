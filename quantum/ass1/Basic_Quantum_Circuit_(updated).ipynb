{
 "cells": [
  {
   "cell_type": "code",
   "execution_count": 1,
   "id": "47340797",
   "metadata": {},
   "outputs": [
    {
     "name": "stdout",
     "output_type": "stream",
     "text": [
      "Requirement already satisfied: qiskit_aer in /opt/anaconda3/lib/python3.11/site-packages (0.14.2)\n",
      "Requirement already satisfied: qiskit>=0.45.2 in /opt/anaconda3/lib/python3.11/site-packages (from qiskit_aer) (1.0.1)\n",
      "Requirement already satisfied: numpy>=1.16.3 in /opt/anaconda3/lib/python3.11/site-packages (from qiskit_aer) (1.26.4)\n",
      "Requirement already satisfied: scipy>=1.0 in /opt/anaconda3/lib/python3.11/site-packages (from qiskit_aer) (1.14.1)\n",
      "Requirement already satisfied: psutil>=5 in /opt/anaconda3/lib/python3.11/site-packages (from qiskit_aer) (5.9.0)\n",
      "Requirement already satisfied: rustworkx>=0.14.0 in /opt/anaconda3/lib/python3.11/site-packages (from qiskit>=0.45.2->qiskit_aer) (0.15.1)\n",
      "Requirement already satisfied: sympy>=1.3 in /opt/anaconda3/lib/python3.11/site-packages (from qiskit>=0.45.2->qiskit_aer) (1.12)\n",
      "Requirement already satisfied: dill>=0.3 in /opt/anaconda3/lib/python3.11/site-packages (from qiskit>=0.45.2->qiskit_aer) (0.3.7)\n",
      "Requirement already satisfied: python-dateutil>=2.8.0 in /opt/anaconda3/lib/python3.11/site-packages (from qiskit>=0.45.2->qiskit_aer) (2.8.2)\n",
      "Requirement already satisfied: stevedore>=3.0.0 in /opt/anaconda3/lib/python3.11/site-packages (from qiskit>=0.45.2->qiskit_aer) (5.4.0)\n",
      "Requirement already satisfied: typing-extensions in /opt/anaconda3/lib/python3.11/site-packages (from qiskit>=0.45.2->qiskit_aer) (4.12.2)\n",
      "Requirement already satisfied: symengine>=0.11 in /opt/anaconda3/lib/python3.11/site-packages (from qiskit>=0.45.2->qiskit_aer) (0.13.0)\n",
      "Requirement already satisfied: six>=1.5 in /opt/anaconda3/lib/python3.11/site-packages (from python-dateutil>=2.8.0->qiskit>=0.45.2->qiskit_aer) (1.16.0)\n",
      "Requirement already satisfied: pbr>=2.0.0 in /opt/anaconda3/lib/python3.11/site-packages (from stevedore>=3.0.0->qiskit>=0.45.2->qiskit_aer) (6.1.0)\n",
      "Requirement already satisfied: mpmath>=0.19 in /opt/anaconda3/lib/python3.11/site-packages (from sympy>=1.3->qiskit>=0.45.2->qiskit_aer) (1.3.0)\n",
      "Note: you may need to restart the kernel to use updated packages.\n"
     ]
    }
   ],
   "source": [
    "pip install qiskit_aer"
   ]
  },
  {
   "cell_type": "code",
   "execution_count": 2,
   "id": "6fdc254f-9fc2-4def-a169-f02b9298dd79",
   "metadata": {
    "colab": {
     "base_uri": "https://localhost:8080/",
     "height": 383
    },
    "id": "6fdc254f-9fc2-4def-a169-f02b9298dd79",
    "outputId": "6f041d42-0aca-4d1f-be99-2e4c6d00061d"
   },
   "outputs": [],
   "source": [
    "from qiskit import QuantumCircuit, transpile\n",
    "from qiskit_aer import QasmSimulator\n",
    "from qiskit.visualization import plot_histogram, circuit_drawer\n",
    "import matplotlib.pyplot as plt\n",
    "%matplotlib inline"
   ]
  },
  {
   "cell_type": "code",
   "execution_count": 3,
   "id": "c35bf4a7",
   "metadata": {},
   "outputs": [],
   "source": [
    "# !pip install qiskit\n",
    "\n",
    "import numpy as np\n",
    "from qiskit_aer import Aer\n",
    "from qiskit import QuantumCircuit, transpile, assemble\n",
    "from qiskit.visualization import plot_histogram\n",
    "import random"
   ]
  },
  {
   "cell_type": "markdown",
   "id": "f6a410fb-62f1-48cd-a198-49425529533f",
   "metadata": {
    "id": "f6a410fb-62f1-48cd-a198-49425529533f"
   },
   "source": [
    "### Create a quantum Circuit with 1 Quantum Register and 1 Classical Register and Apply two Hadamard gate to qubit 0 and Measure qubit 0"
   ]
  },
  {
   "cell_type": "code",
   "execution_count": 8,
   "id": "e2fabc28-1da9-4e46-b220-dec6921f561c",
   "metadata": {
    "colab": {
     "base_uri": "https://localhost:8080/",
     "height": 383
    },
    "id": "e2fabc28-1da9-4e46-b220-dec6921f561c",
    "outputId": "17b97c82-4cd0-4f78-9d2d-bf430eb072bd"
   },
   "outputs": [
    {
     "name": "stdout",
     "output_type": "stream",
     "text": [
      "Quantum Circuit:\n",
      "     ┌───┐┌───┐┌─┐\n",
      "  q: ┤ H ├┤ H ├┤M├\n",
      "     └───┘└───┘└╥┘\n",
      "c: 1/═══════════╩═\n",
      "                0 \n",
      "\n",
      "Measurement Results:\n",
      "{'0': 1024}\n"
     ]
    },
    {
     "data": {
      "image/png": "[encoded data removed]",
      "text/plain": [
       "<Figure size 640x480 with 1 Axes>"
      ]
     },
     "metadata": {},
     "output_type": "display_data"
    }
   ],
   "source": [
    "# from qiskit import QuantumCircuit, Aer, transpile, assemble\n",
    "from qiskit.visualization import plot_histogram\n",
    "# from qiskit.providers.aer import AerSimulator\n",
    "from qiskit_aer import AerSimulator\n",
    "\n",
    "# Step 1: Create a Quantum Circuit with 1 quantum register and 1 classical register\n",
    "qc = QuantumCircuit(1, 1)  # 1 qubit and 1 classical bit\n",
    "\n",
    "# Step 2: Apply two Hadamard gates to qubit 0\n",
    "qc.h(0)  # Apply Hadamard gate on qubit 0\n",
    "qc.h(0)  # Apply Hadamard gate again on qubit 0\n",
    "\n",
    "# Step 3: Measure Qubit 0 to Classical Bit 0\n",
    "qc.measure(0, 0)  # Measure qubit 0 into classical bit 0\n",
    "\n",
    "# Step 4: Simulate the Circuit\n",
    "simulator = AerSimulator()  # Use the QASM simulator\n",
    "job = simulator.run(qc, shots=1024)  # Execute the circuit with 1024 shots\n",
    "result = job.result()  # Get the result\n",
    "counts = result.get_counts(qc)  # Extract the counts\n",
    "\n",
    "# Step 5: Visualize the Results\n",
    "print(\"Quantum Circuit:\")\n",
    "print(qc.draw())  # ASCII visualization of the circuit\n",
    "\n",
    "print(\"\\nMeasurement Results:\")\n",
    "print(counts)  # Print measurement results\n",
    "\n",
    "# Plot a histogram of the results\n",
    "plot_histogram(counts)\n",
    "plt.title(\"Measurement Results\")\n",
    "plt.show()\n"
   ]
  },
  {
   "cell_type": "code",
   "execution_count": null,
   "id": "135d39d7",
   "metadata": {},
   "outputs": [],
   "source": []
  },
  {
   "cell_type": "markdown",
   "id": "ae73ef37-fbee-4732-be34-c942e4e004d4",
   "metadata": {
    "id": "ae73ef37-fbee-4732-be34-c942e4e004d4"
   },
   "source": [
    "### Create a quantum Circuit with 2 Quantum Register and 1 Classical Register and Apply Pauli X Gate to qubit 0 and CNOT Gate with Control Qubit 0 and Target Qubit 1 and Measure qubit 1"
   ]
  },
  {
   "cell_type": "code",
   "execution_count": 5,
   "id": "8e328d71-29dc-4ae2-a7a4-3571c410b21e",
   "metadata": {
    "id": "8e328d71-29dc-4ae2-a7a4-3571c410b21e"
   },
   "outputs": [
    {
     "name": "stdout",
     "output_type": "stream",
     "text": [
      "Quantum Circuit:\n",
      "     ┌───┐        \n",
      "q_0: ┤ X ├──■─────\n",
      "     └───┘┌─┴─┐┌─┐\n",
      "q_1: ─────┤ X ├┤M├\n",
      "          └───┘└╥┘\n",
      "c: 1/═══════════╩═\n",
      "                0 \n",
      "\n",
      "Measurement Results:\n",
      "{'1': 1024}\n"
     ]
    },
    {
     "data": {
      "image/png": "[encoded data removed]",
      "text/plain": [
       "<Figure size 640x480 with 1 Axes>"
      ]
     },
     "metadata": {},
     "output_type": "display_data"
    }
   ],
   "source": [
    "# from qiskit import QuantumCircuit, Aer, transpile, assemble\n",
    "from qiskit.visualization import plot_histogram\n",
    "# from qiskit.providers.aer import AerSimulator\n",
    "\n",
    "# Step 1: Create a Quantum Circuit with 2 quantum registers and 1 classical register\n",
    "qc = QuantumCircuit(2, 1)  # 2 qubits and 1 classical bit\n",
    "\n",
    "# Step 2: Apply Pauli X Gate to qubit 0\n",
    "qc.x(0)  # Pauli X Gate on qubit 0 (NOT gate)\n",
    "\n",
    "# Step 3: Apply CNOT Gate with Control Qubit 0 and Target Qubit 1\n",
    "qc.cx(0, 1)  # CNOT Gate with qubit 0 as control and qubit 1 as target\n",
    "\n",
    "# Step 4: Measure Qubit 1 to Classical Bit 0\n",
    "qc.measure(1, 0)  # Measure qubit 1 and store the result in classical bit 0\n",
    "\n",
    "# Step 5: Simulate the Circuit\n",
    "simulator = AerSimulator()  # Use the QASM simulator\n",
    "job = simulator.run(qc, shots=1024)  # Execute the circuit with 1024 shots\n",
    "result = job.result()  # Get the result\n",
    "counts = result.get_counts(qc)  # Extract the counts\n",
    "\n",
    "# Step 6: Visualize the Results\n",
    "print(\"Quantum Circuit:\")\n",
    "print(qc.draw())  # ASCII visualization of the circuit\n",
    "\n",
    "print(\"\\nMeasurement Results:\")\n",
    "print(counts)  # Print measurement results\n",
    "\n",
    "# Plot a histogram of the results\n",
    "plot_histogram(counts)\n",
    "plt.title(\"Measurement Results\")\n",
    "plt.show()\n"
   ]
  },
  {
   "cell_type": "markdown",
   "id": "a9d15aba-cdc6-40f2-be51-416f4d6f95b3",
   "metadata": {
    "id": "a9d15aba-cdc6-40f2-be51-416f4d6f95b3"
   },
   "source": [
    "### Create a quantum Circuit with 1 Quantum Register and 1 Classical Register and Apply RX,RY and RZ Gate to qubit 0 with 0.45,-0.30 and 0.45 radians respectively. Measure Qubit 0"
   ]
  },
  {
   "cell_type": "code",
   "execution_count": 9,
   "id": "97df66d8-c321-462d-8b58-01b52503e11f",
   "metadata": {
    "id": "97df66d8-c321-462d-8b58-01b52503e11f"
   },
   "outputs": [
    {
     "name": "stdout",
     "output_type": "stream",
     "text": [
      "Quantum Circuit:\n",
      "     ┌──────────┐┌──────────┐┌──────────┐┌─┐\n",
      "  q: ┤ Rx(0.45) ├┤ Ry(-0.3) ├┤ Rz(0.45) ├┤M├\n",
      "     └──────────┘└──────────┘└──────────┘└╥┘\n",
      "c: 1/═════════════════════════════════════╩═\n",
      "                                          0 \n",
      "\n",
      "Measurement Results:\n",
      "{'1': 64, '0': 960}\n"
     ]
    },
    {
     "data": {
      "image/png": "[encoded data removed]",
      "text/plain": [
       "<Figure size 640x480 with 1 Axes>"
      ]
     },
     "metadata": {},
     "output_type": "display_data"
    }
   ],
   "source": [
    "# from qiskit import QuantumCircuit, Aer, transpile, assemble\n",
    "from qiskit.visualization import plot_histogram\n",
    "# from qiskit.providers.aer import AerSimulator\n",
    "\n",
    "# Step 1: Create a Quantum Circuit with 1 quantum register and 1 classical register\n",
    "qc = QuantumCircuit(1, 1)  # 1 qubit and 1 classical bit\n",
    "\n",
    "# Step 2: Apply RX, RY, and RZ gates to qubit 0\n",
    "qc.rx(0.45, 0)  # Apply RX gate with 0.45 radians to qubit 0\n",
    "qc.ry(-0.30, 0)  # Apply RY gate with -0.30 radians to qubit 0\n",
    "qc.rz(0.45, 0)  # Apply RZ gate with 0.45 radians to qubit 0\n",
    "\n",
    "# Step 3: Measure Qubit 0 to Classical Bit 0\n",
    "qc.measure(0, 0)  # Measure qubit 0 and store the result in classical bit 0\n",
    "\n",
    "# Step 4: Simulate the Circuit\n",
    "simulator = AerSimulator()  # Use the QASM simulator\n",
    "job = simulator.run(qc, shots=1024)  # Execute the circuit with 1024 shots\n",
    "result = job.result()  # Get the result\n",
    "counts = result.get_counts(qc)  # Extract the counts\n",
    "\n",
    "# Step 5: Visualize the Results\n",
    "print(\"Quantum Circuit:\")\n",
    "print(qc.draw())  # ASCII visualization of the circuit\n",
    "\n",
    "print(\"\\nMeasurement Results:\")\n",
    "print(counts)  # Print measurement results\n",
    "\n",
    "# Plot a histogram of the results\n",
    "plot_histogram(counts)\n",
    "plt.title(\"Measurement Results\")\n",
    "plt.show()\n"
   ]
  },
  {
   "cell_type": "markdown",
   "id": "b877b750-2750-4f95-8270-8f3e1643b7f6",
   "metadata": {
    "id": "b877b750-2750-4f95-8270-8f3e1643b7f6"
   },
   "source": [
    "### Create a quantum Circuit with 2 Quantum Register and 1 Classical Register and Apply Hadamard gate to qubit 0, Pauli X gate to qubit 1 and Swap gates on qubit 0 and 1. Measure Qubit 0"
   ]
  },
  {
   "cell_type": "code",
   "execution_count": 7,
   "id": "c0f4b5a9-5646-47ae-82a4-ab42de3ec8d6",
   "metadata": {
    "id": "c0f4b5a9-5646-47ae-82a4-ab42de3ec8d6"
   },
   "outputs": [
    {
     "name": "stdout",
     "output_type": "stream",
     "text": [
      "Quantum Circuit:\n",
      "Figure(370.906x284.278)\n",
      "\n",
      "Measurement Results:\n",
      "{'1': 1024}\n"
     ]
    },
    {
     "data": {
      "image/png": "[encoded data removed]",
      "text/plain": [
       "<Figure size 640x480 with 1 Axes>"
      ]
     },
     "metadata": {},
     "output_type": "display_data"
    }
   ],
   "source": [
    "# from qiskit import QuantumCircuit, Aer, transpile\n",
    "from qiskit.visualization import plot_histogram\n",
    "# from qiskit.providers.aer import AerSimulator\n",
    "\n",
    "# Step 1: Create a Quantum Circuit with 2 quantum registers and 1 classical register\n",
    "qc = QuantumCircuit(2, 1)  # 2 qubits and 1 classical bit\n",
    "\n",
    "# Step 2: Apply Hadamard gate to qubit 0\n",
    "qc.h(0)  # Hadamard gate on qubit 0\n",
    "\n",
    "# Step 3: Apply Pauli X gate to qubit 1\n",
    "qc.x(1)  # Pauli X (NOT) gate on qubit 1\n",
    "\n",
    "# Step 4: Apply Swap gate on qubit 0 and qubit 1\n",
    "qc.swap(0, 1)  # Swap qubit 0 with qubit 1\n",
    "\n",
    "# Step 5: Measure Qubit 0 to Classical Bit 0\n",
    "qc.measure(0, 0)  # Measure qubit 0 and store the result in classical bit 0\n",
    "\n",
    "# Step 6: Simulate the Circuit\n",
    "simulator = AerSimulator()  # Use the QASM simulator\n",
    "job = simulator.run(qc, shots=1024)  # Execute the circuit with 1024 shots\n",
    "result = job.result()  # Get the result\n",
    "counts = result.get_counts(qc)  # Extract the counts\n",
    "\n",
    "# Step 7: Visualize the Results\n",
    "print(\"Quantum Circuit:\")\n",
    "print(qc.draw('mpl'))  # ASCII visualization of the circuit\n",
    "\n",
    "print(\"\\nMeasurement Results:\")\n",
    "print(counts)  # Print measurement results\n",
    "\n",
    "# Plot a histogram of the results\n",
    "plot_histogram(counts)\n",
    "plt.title(\"Measurement Results\")\n",
    "plt.show()\n"
   ]
  },
  {
   "cell_type": "code",
   "execution_count": null,
   "id": "1b56e135-6057-42ba-a757-21c778e6ea8b",
   "metadata": {
    "id": "1b56e135-6057-42ba-a757-21c778e6ea8b"
   },
   "outputs": [],
   "source": []
  }
 ],
 "metadata": {
  "colab": {
   "provenance": []
  },
  "kernelspec": {
   "display_name": "base",
   "language": "python",
   "name": "python3"
  },
  "language_info": {
   "codemirror_mode": {
    "name": "ipython",
    "version": 3
   },
   "file_extension": ".py",
   "mimetype": "text/x-python",
   "name": "python",
   "nbconvert_exporter": "python",
   "pygments_lexer": "ipython3",
   "version": "3.11.8"
  }
 },
 "nbformat": 4,
 "nbformat_minor": 5
}
