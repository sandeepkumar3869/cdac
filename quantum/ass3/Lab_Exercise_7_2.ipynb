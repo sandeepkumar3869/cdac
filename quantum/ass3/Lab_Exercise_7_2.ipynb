{
 "cells": [
  {
   "cell_type": "code",
   "execution_count": null,
   "id": "0e6ea145-0227-40ac-829e-971d01aa0e8e",
   "metadata": {},
   "outputs": [],
   "source": [
    "import numpy as np\n",
    "import pandas as pd\n",
    "import matplotlib.pyplot as plt\n",
    "from scipy.cluster.hierarchy import dendrogram\n",
    "from qiskit import QuantumCircuit, QuantumRegister, ClassicalRegister, transpile\n",
    "from qiskit_aer import AerSimulator\n",
    "%matplotlib inline"
   ]
  },
  {
   "cell_type": "code",
   "execution_count": null,
   "id": "f2e18914-fc3a-43e2-ac71-75b0ba996c3b",
   "metadata": {},
   "outputs": [],
   "source": [
    "# Quantum simulator backend\n",
    "backend = AerSimulator()"
   ]
  },
  {
   "cell_type": "code",
   "execution_count": null,
   "id": "55503a25-4794-4169-a3ac-0acaf55800e1",
   "metadata": {},
   "outputs": [],
   "source": [
    "# Function to normalize data for quantum state preparation\n",
    "def normalize_data(data):\n",
    "    # TODO: Normalize the data by calculating the norm and dividing each vector by its norm\n",
    "    norm = None  # Replace with calculation of the norm\n",
    "    return norm"
   ]
  },
  {
   "cell_type": "code",
   "execution_count": null,
   "id": "1f25e375-9704-4a20-922c-c1fe081d4027",
   "metadata": {},
   "outputs": [],
   "source": [
    "# Quantum State Preparation for Data Points and Centroids\n",
    "def quantum_state_prep(qc, qr, data):\n",
    "    # TODO: Prepare the quantum state using the normalized data and RY rotations\n",
    "    data = None  # Replace with normalized data calculation for single data point\n",
    "    for i, d in enumerate(data):\n",
    "        theta = None  # Replace with calculation of the rotation angle\n",
    "        qc.ry(theta, [qr[i]])"
   ]
  },
  {
   "cell_type": "code",
   "execution_count": null,
   "id": "9621b7a0-eb59-4300-ba33-9c735a86815b",
   "metadata": {},
   "outputs": [],
   "source": [
    "# Quantum Inner Product Estimation using Swap Test\n",
    "def swap_test(data_point, centroid):\n",
    "    global print_circuit_once \n",
    "    ancilla = QuantumRegister(1, 'ancilla')\n",
    "    qr_x = QuantumRegister(len(data_point), 'x')\n",
    "    qr_y = QuantumRegister(len(centroid), 'y')\n",
    "    cr = ClassicalRegister(1, 'result')\n",
    "    qc = QuantumCircuit(ancilla, qr_x, qr_y, cr)\n",
    "    \n",
    "    # TODO: Prepare the quantum states for data_point and centroid\n",
    "    pass\n",
    "\n",
    "    # TODO: Apply Hadamard gate to aniclla and controlled-swap gates\n",
    "    pass\n",
    "    \n",
    "    qc.measure(ancilla, cr)\n",
    "\n",
    "    if not print_circuit_once:\n",
    "        qc.draw(output='mpl')\n",
    "        print_circuit_once = True \n",
    "    \n",
    "    transpiled_qc = transpile(qc, backend)\n",
    "    result = backend.run(transpiled_qc, shots=1024).result()\n",
    "    counts = result.get_counts()\n",
    "    \n",
    "    # TODO: Compute the probability and the inner product\n",
    "    p0 = None  # Replace with calculation of probability of measuring '0'\n",
    "    inner_product = None  # Replace with calculation of the inner product\n",
    "    return np.sqrt(inner_product)"
   ]
  },
  {
   "cell_type": "code",
   "execution_count": null,
   "id": "1088aabf-0e64-4f6f-8aa6-0464ffd31d9a",
   "metadata": {},
   "outputs": [],
   "source": [
    "# Quantum Distance Estimation using the formula for squared Euclidean distance\n",
    "def quantum_distance(data_point, centroid):\n",
    "    # TODO: Compute the quantum distance using the norm and inner product\n",
    "    norm_x = None  # Replace with calculation of norm of data_point\n",
    "    norm_y = None  # Replace with calculation of norm of centroid\n",
    "    inner_product = None  # Replace with swap test computation\n",
    "    distance_squared = None  # Replace with squared distance formula\n",
    "    return np.sqrt(distance_squared)"
   ]
  },
  {
   "cell_type": "code",
   "execution_count": null,
   "id": "c8556de0-8559-47da-8882-72ab520f36fe",
   "metadata": {},
   "outputs": [],
   "source": [
    "# Agglomerative Quantum Clustering with Dendrogram Tracking\n",
    "def quantum_agglomerative_clustering_with_dendrogram(data):\n",
    "    clusters = [[i] for i in range(len(data))]\n",
    "    cluster_sizes = {i: 1 for i in range(len(data))}\n",
    "    cluster_labels = list(range(len(data)))\n",
    "    linkage_matrix = []\n",
    "    \n",
    "    distances = np.zeros((len(data), len(data)))\n",
    "    for i in range(len(data)):\n",
    "        for j in range(i + 1, len(data)):\n",
    "            # TODO: Calculate the quantum distance for each pair of points\n",
    "            distances[i, j] = distances[j, i] = None  # Replace with quantum_distance calculation\n",
    "    \n",
    "    current_cluster_label = len(data)\n",
    "    \n",
    "    while len(clusters) > 1:\n",
    "        min_dist = float('inf')\n",
    "        merge_pair = None\n",
    "        for i, cluster1 in enumerate(clusters):\n",
    "            for j, cluster2 in enumerate(clusters):\n",
    "                if i != j:\n",
    "                    # TODO: Compute the average distance between clusters\n",
    "                    dist = None  # Replace with calculation of average distance\n",
    "                    if dist < min_dist:\n",
    "                        min_dist = dist\n",
    "                        merge_pair = (i, j)\n",
    "        \n",
    "        i, j = merge_pair\n",
    "        size_i = cluster_sizes[cluster_labels[i]]\n",
    "        size_j = cluster_sizes[cluster_labels[j]]\n",
    "        linkage_matrix.append([cluster_labels[i], cluster_labels[j], min_dist, size_i + size_j])\n",
    "        \n",
    "        cluster_sizes[current_cluster_label] = size_i + size_j\n",
    "        cluster_labels[i] = current_cluster_label\n",
    "        current_cluster_label += 1\n",
    "        \n",
    "        clusters[i].extend(clusters[j])\n",
    "        del clusters[j]\n",
    "        del cluster_labels[j]\n",
    "\n",
    "    return np.array(linkage_matrix)"
   ]
  },
  {
   "cell_type": "code",
   "execution_count": null,
   "id": "820b163d-0d8d-493a-b889-27458760da53",
   "metadata": {},
   "outputs": [],
   "source": [
    "# Plot quantum-enhanced dendrogram\n",
    "def plot_dendrogram(linkage_matrix, data):\n",
    "    plt.figure(figsize=(20, 15))\n",
    "    # TODO: Use the dendrogram function to plot the linkage matrix\n",
    "    pass  # Replace with plotting code\n",
    "    plt.title(\"Quantum-Enhanced Dendrogram\")\n",
    "    plt.xlabel(\"Data Points\")\n",
    "    plt.ylabel(\"Quantum Distance\")\n",
    "    plt.show()"
   ]
  },
  {
   "cell_type": "code",
   "execution_count": null,
   "id": "48bc468c-2d44-4a92-bcf9-3bdd80a14e44",
   "metadata": {},
   "outputs": [],
   "source": [
    "# Function to load real-world data from CSV\n",
    "def load_csv_data(file_path):\n",
    "    df = pd.read_csv(file_path)\n",
    "    # TODO: Extract numerical data from the CSV file\n",
    "    data = None  # Replace with data extraction logic\n",
    "    return data"
   ]
  },
  {
   "cell_type": "code",
   "execution_count": null,
   "id": "17fd9126-7861-4295-95a4-15163d7c0578",
   "metadata": {},
   "outputs": [],
   "source": [
    "if __name__ == \"__main__\":\n",
    "    print_circuit_once = False\n",
    "    \n",
    "    # Load real-world data from CSV\n",
    "    file_path = 'data_banknote_authentication.csv'  # Update with the actual file path\n",
    "    data = load_csv_data(file_path)\n",
    "    \n",
    "    # Normalize the data for quantum preparation\n",
    "    data = normalize_data(data)\n",
    "    \n",
    "    # Run Quantum Agglomerative Clustering with Dendrogram Tracking\n",
    "    linkage_matrix = quantum_agglomerative_clustering_with_dendrogram(data)\n",
    "    \n",
    "    # Plot the quantum-enhanced dendrogram\n",
    "    plot_dendrogram(linkage_matrix, data)\n"
   ]
  },
  {
   "cell_type": "code",
   "execution_count": null,
   "id": "fa62b8f4-b199-4331-947b-20e435a30dab",
   "metadata": {},
   "outputs": [],
   "source": []
  }
 ],
 "metadata": {
  "kernelspec": {
   "display_name": "Python 3 (ipykernel)",
   "language": "python",
   "name": "python3"
  },
  "language_info": {
   "codemirror_mode": {
    "name": "ipython",
    "version": 3
   },
   "file_extension": ".py",
   "mimetype": "text/x-python",
   "name": "python",
   "nbconvert_exporter": "python",
   "pygments_lexer": "ipython3",
   "version": "3.10.14"
  }
 },
 "nbformat": 4,
 "nbformat_minor": 5
}
