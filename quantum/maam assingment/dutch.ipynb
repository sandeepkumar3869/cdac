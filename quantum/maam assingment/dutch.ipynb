{
 "cells": [
  {
   "cell_type": "code",
   "execution_count": 6,
   "metadata": {},
   "outputs": [
    {
     "name": "stdout",
     "output_type": "stream",
     "text": [
      "Measurement outcomes: {'111': 1024}\n",
      "Original Circuit:\n",
      "Transpiled Circuit:\n"
     ]
    },
    {
     "data": {
      "image/png": "[encoded data removed]",
      "text/plain": [
       "<Figure size 640x480 with 1 Axes>"
      ]
     },
     "execution_count": 6,
     "metadata": {},
     "output_type": "execute_result"
    }
   ],
   "source": [
    "# from qiskit import QuantumCircuit, execute\n",
    "import qiskit\n",
    "from qiskit import QuantumCircuit\n",
    "from qiskit_aer import Aer\n",
    "from qiskit.visualization import plot_histogram\n",
    "from qiskit import QuantumCircuit, transpile\n",
    "from qiskit.visualization import plot_histogram\n",
    "\n",
    "# Function to implement the oracle for a constant or balanced function\n",
    "def deutsch_jozsa_oracle(qc, n, oracle_type):\n",
    "    \"\"\"Implements the oracle for Deutsch-Josza Algorithm.\n",
    "    Arguments:\n",
    "    - qc: QuantumCircuit\n",
    "    - n: Number of qubits for input\n",
    "    - oracle_type: 'constant' or 'balanced'\n",
    "    \"\"\"\n",
    "    if oracle_type == 'constant':\n",
    "        # Constant function: Flip the output qubit if the function is 1\n",
    "        qc.x(n)  # Flip the output qubit for constant-1\n",
    "    elif oracle_type == 'balanced':\n",
    "        # Balanced function: Apply CNOT gates to flip output based on input\n",
    "        for i in range(n):\n",
    "            qc.cx(i, n)\n",
    "\n",
    "# Define the Deutsch-Josza Algorithm\n",
    "def deutsch_jozsa_algorithm(n, oracle_type):\n",
    "    \"\"\"Runs Deutsch-Josza Algorithm.\n",
    "    Arguments:\n",
    "    - n: Number of input qubits\n",
    "    - oracle_type: 'constant' or 'balanced'\n",
    "    Returns:\n",
    "    - result: Counts of measurement outcomes\n",
    "    \"\"\"\n",
    "    # Create a QuantumCircuit with n input qubits and 1 output qubit\n",
    "    qc = QuantumCircuit(n + 1, n)\n",
    "\n",
    "    # Initialize the output qubit to |1>\n",
    "    qc.x(n)\n",
    "    qc.h(n)\n",
    "\n",
    "    # Apply Hadamard gates to the input qubits\n",
    "    for i in range(n):\n",
    "        qc.h(i)\n",
    "\n",
    "    # Apply the oracle\n",
    "    deutsch_jozsa_oracle(qc, n, oracle_type)\n",
    "\n",
    "    # Apply Hadamard gates to the input qubits again\n",
    "    for i in range(n):\n",
    "        qc.h(i)\n",
    "\n",
    "    # Measure the input qubits\n",
    "    qc.measure(range(n), range(n))\n",
    "\n",
    "    # Simulate the circuit\n",
    "    simulator = Aer.get_backend('aer_simulator')\n",
    "    \n",
    "    # Transpile the circuit\n",
    "    transpiled_circuit = transpile(qc, simulator)\n",
    "    \n",
    "    # Run the transpiled circuit directly using the simulator's `run` method\n",
    "    result = simulator.run(transpiled_circuit, shots=1024).result()\n",
    "\n",
    "    return result.get_counts(), qc, transpiled_circuit\n",
    "\n",
    "# Run the algorithm\n",
    "n = 3  # Number of input qubits\n",
    "oracle_type = 'balanced'  # Change to 'constant' for a constant function\n",
    "counts, original_qc, transpiled_qc = deutsch_jozsa_algorithm(n, oracle_type)\n",
    "\n",
    "# Display the results\n",
    "print(\"Measurement outcomes:\", counts)\n",
    "print(\"Original Circuit:\")\n",
    "original_qc.draw('mpl')  # Draw the original circuit\n",
    "print(\"Transpiled Circuit:\")\n",
    "transpiled_qc.draw('mpl')  # Draw the transpiled circuit\n",
    "plot_histogram(counts)\n"
   ]
  },
  {
   "cell_type": "code",
   "execution_count": null,
   "metadata": {},
   "outputs": [],
   "source": []
  }
 ],
 "metadata": {
  "kernelspec": {
   "display_name": "base",
   "language": "python",
   "name": "python3"
  },
  "language_info": {
   "codemirror_mode": {
    "name": "ipython",
    "version": 3
   },
   "file_extension": ".py",
   "mimetype": "text/x-python",
   "name": "python",
   "nbconvert_exporter": "python",
   "pygments_lexer": "ipython3",
   "version": "3.11.8"
  }
 },
 "nbformat": 4,
 "nbformat_minor": 2
}
