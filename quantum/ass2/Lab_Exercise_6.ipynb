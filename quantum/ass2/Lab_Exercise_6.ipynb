{
 "cells": [
  {
   "cell_type": "code",
   "execution_count": 7,
   "id": "d9e1805f-58e0-48aa-a0e8-1b502640d523",
   "metadata": {},
   "outputs": [],
   "source": [
    "#!pip install qiskit==1.0.1 qiskit-aer==0.14.2 qiskit-algorithms==0.3.0 qiskit-machine-learning==0.7.2"
   ]
  },
  {
   "cell_type": "code",
   "execution_count": 8,
   "id": "946f78ee-345b-4294-9910-7f7e81578f7b",
   "metadata": {},
   "outputs": [],
   "source": [
    "import numpy as np\n",
    "import matplotlib.pyplot as plt\n",
    "from qiskit import QuantumCircuit, QuantumRegister, ClassicalRegister, transpile\n",
    "from qiskit_aer import AerSimulator\n",
    "%matplotlib inline"
   ]
  },
  {
   "cell_type": "code",
   "execution_count": 9,
   "id": "7df8e441-cc6f-48fd-9005-5003eed7132f",
   "metadata": {},
   "outputs": [],
   "source": [
    "backend = AerSimulator()"
   ]
  },
  {
   "cell_type": "code",
   "execution_count": 10,
   "id": "574ede04-76ff-4bfa-b485-217b2d660c91",
   "metadata": {},
   "outputs": [],
   "source": [
    "# Function to normalize data for quantum state preparation\n",
    "def normalize_data(data):\n",
    "    norm = None # TODO: Compute the normalization of the data (use numpy library)\n",
    "    return norm # TODO: Return the normalized data"
   ]
  },
  {
   "cell_type": "code",
   "execution_count": 11,
   "id": "19067348-c61e-4b06-a7c5-7f1b14782bd8",
   "metadata": {},
   "outputs": [],
   "source": [
    "# Quantum State Preparation for Data Points and Centroids\n",
    "def quantum_state_prep(qc, qr, data):\n",
    "    data = normalize_data(data)\n",
    "    for i, d in enumerate(data):\n",
    "        theta = 2 * np.arccos(d)\n",
    "        # TODO: Apply rotation quantum gate to encode 'theta' into the qubit 'qr[i]'\n",
    "        pass  # Remove this line when you implement the function"
   ]
  },
  {
   "cell_type": "code",
   "execution_count": null,
   "id": "62d3793a-b335-467a-95f8-8234c6cd16c8",
   "metadata": {},
   "outputs": [
    {
     "ename": "ImportError",
     "evalue": "cannot import name 'IBMQ' from 'qiskit' (C:\\Users\\DBDA\\AppData\\Roaming\\Python\\Python312\\site-packages\\qiskit\\__init__.py)",
     "output_type": "error",
     "traceback": [
      "\u001b[1;31m---------------------------------------------------------------------------\u001b[0m",
      "\u001b[1;31mImportError\u001b[0m                               Traceback (most recent call last)",
      "\u001b[1;32mc:\\Users\\DBDA\\Downloads\\FarmKit-main\\Lab_Exercise_6.ipynb Cell 6\u001b[0m line \u001b[0;36m1\n\u001b[1;32m----> <a href='vscode-notebook-cell:/c%3A/Users/DBDA/Downloads/FarmKit-main/Lab_Exercise_6.ipynb#W5sZmlsZQ%3D%3D?line=0'>1</a>\u001b[0m \u001b[39mfrom\u001b[39;00m \u001b[39mqiskit\u001b[39;00m \u001b[39mimport\u001b[39;00m QuantumCircuit, QuantumRegister, ClassicalRegister, transpile, IBMQ\n\u001b[0;32m      <a href='vscode-notebook-cell:/c%3A/Users/DBDA/Downloads/FarmKit-main/Lab_Exercise_6.ipynb#W5sZmlsZQ%3D%3D?line=1'>2</a>\u001b[0m \u001b[39mfrom\u001b[39;00m \u001b[39mqiskit\u001b[39;00m\u001b[39m.\u001b[39;00m\u001b[39mproviders\u001b[39;00m\u001b[39m.\u001b[39;00m\u001b[39mibmq\u001b[39;00m \u001b[39mimport\u001b[39;00m least_busy\n\u001b[0;32m      <a href='vscode-notebook-cell:/c%3A/Users/DBDA/Downloads/FarmKit-main/Lab_Exercise_6.ipynb#W5sZmlsZQ%3D%3D?line=3'>4</a>\u001b[0m \u001b[39mdef\u001b[39;00m \u001b[39mswap_test\u001b[39m(data_point, centroid):\n",
      "\u001b[1;31mImportError\u001b[0m: cannot import name 'IBMQ' from 'qiskit' (C:\\Users\\DBDA\\AppData\\Roaming\\Python\\Python312\\site-packages\\qiskit\\__init__.py)"
     ]
    }
   ],
   "source": [
    "# Quantum Inner Product Estimation using Swap Test\n",
    "def swap_test(data_point, centroid):\n",
    "    global print_circuit_once \n",
    "    # Create a quantum circuit with ancilla and two quantum registers\n",
    "    ancilla = QuantumRegister(1, 'ancilla')\n",
    "    qr_x = QuantumRegister(len(data_point), 'x')\n",
    "    qr_y = QuantumRegister(len(centroid), 'y')\n",
    "    cr = ClassicalRegister(1, 'result')\n",
    "    # TODO: Create a Quantum Circuit qc with all the registers defined above.\n",
    "\n",
    "    \n",
    "    \n",
    "    # Prepare the state |x⟩ and |y⟩\n",
    "    quantum_state_prep(qc, qr_x, data_point)\n",
    "    quantum_state_prep(qc, qr_y, centroid)\n",
    "    \n",
    "    #TODO: Apply Hadamard gate to the ancilla\n",
    "    \n",
    "    \n",
    "    # TODO: Apply controlled-SWAP gates between corresponding qubits of the data point and centroid\n",
    "    for i in range(len(data_point)):\n",
    "        pass\n",
    "    \n",
    "    #TODO: Apply another Hadamard gate to the ancilla\n",
    "    \n",
    "    \n",
    "    # Measure the ancilla\n",
    "    qc.measure(ancilla, cr)\n",
    "\n",
    "    if not print_circuit_once:\n",
    "        qc.draw(output='mpl')\n",
    "        print_circuit_once = True \n",
    "    \n",
    "    # Simulate the circuit\n",
    "    transpiled_qc = transpile(qc, backend)\n",
    "    result = backend.run(transpiled_qc, shots=1024).result()\n",
    "    counts = result.get_counts()\n",
    "    \n",
    "    # Probability of measuring 0 in the ancilla\n",
    "    p0 = counts.get('0', 0) / 1024\n",
    "\n",
    "     # TODO: Calculate the inner product estimate from the measurement results\n",
    "    inner_product = None # \n",
    "    return inner_product"
   ]
  },
  {
   "cell_type": "code",
   "execution_count": null,
   "id": "8dcd6bfd-11e1-4a5b-a9c5-407aa3628d0c",
   "metadata": {},
   "outputs": [],
   "source": [
    "# Quantum Distance Estimation using the formula for squared Euclidean distance\n",
    "def quantum_distance(data_point, centroid):\n",
    "    norm_x = np.linalg.norm(data_point)  # Classical scalar |x|\n",
    "    norm_y = np.linalg.norm(centroid)    # Classical scalar |y|\n",
    "    \n",
    "    # Quantum estimation of <x|y> using swap test\n",
    "    inner_product = swap_test(data_point, centroid)\n",
    "    \n",
    "    # TODO: Compute the Euclidean distance \n",
    "    distance = None\n",
    "    return distance"
   ]
  },
  {
   "cell_type": "code",
   "execution_count": null,
   "id": "84d5bcda-ddce-4c60-9347-92ab7d8c41b8",
   "metadata": {},
   "outputs": [],
   "source": [
    "# Update centroids based on assigned clusters\n",
    "def update_centroids(clusters, data):\n",
    "    new_centroids = []\n",
    "    for cluster in clusters:\n",
    "        if len(cluster) > 0:\n",
    "            #TODO: Compute mean of the cluster\n",
    "            centroid = None\n",
    "        else:\n",
    "            # Handle empty clusters\n",
    "            centroid = data[np.random.randint(0, len(data))]\n",
    "        new_centroids.append(centroid)\n",
    "    return new_centroids"
   ]
  },
  {
   "cell_type": "code",
   "execution_count": null,
   "id": "0c4820de-304d-4708-a07d-8b4a49d8fd14",
   "metadata": {},
   "outputs": [],
   "source": [
    "# Visualization function for plotting points and centroids in 2D\n",
    "def visualize_clusters(data, centroids, clusters, iteration):\n",
    "    colors = ['r', 'g', 'b', 'y', 'c', 'm']\n",
    "    \n",
    "    plt.figure()\n",
    "    \n",
    "    for i, cluster in enumerate(clusters):\n",
    "        cluster_points = np.array([data[j] for j in cluster])\n",
    "        plt.scatter(cluster_points[:, 0], cluster_points[:, 1], c=colors[i], label=f'Cluster {i+1}')\n",
    "    \n",
    "    # Plot centroids\n",
    "    centroids = np.array(centroids)\n",
    "    plt.scatter(centroids[:, 0], centroids[:, 1], c='black', marker='x', s=100, label='Centroids')\n",
    "\n",
    "    plt.title(f'Iteration {iteration}')\n",
    "    plt.xlabel('X')\n",
    "    plt.ylabel('Y')\n",
    "    plt.legend()\n",
    "    plt.grid(True)\n",
    "    plt.show()"
   ]
  },
  {
   "cell_type": "code",
   "execution_count": null,
   "id": "03347a36-ee97-40e8-a7b2-be123b9ad39e",
   "metadata": {},
   "outputs": [],
   "source": [
    "# Quantum K-means Algorithm with 2D visualization\n",
    "def quantum_kmeans(data, k, max_iters=100):\n",
    "    # Initialize random centroids\n",
    "    centroids = data[np.random.choice(len(data), k, replace=False)]\n",
    "    \n",
    "    for iteration in range(max_iters):\n",
    "        clusters = [[] for _ in range(k)]\n",
    "        \n",
    "        # Assign each point to the nearest centroid\n",
    "        for i, point in enumerate(data):\n",
    "            distances = [quantum_distance(point, centroid) for centroid in centroids]\n",
    "            cluster_idx = np.argmin(distances)\n",
    "            clusters[cluster_idx].append(i)\n",
    "        \n",
    "        # Visualize clusters and centroids in 2D\n",
    "        visualize_clusters(data, centroids, clusters, iteration)\n",
    "        \n",
    "        # Update centroids\n",
    "        new_centroids = update_centroids(clusters, data)\n",
    "        \n",
    "        # Check for convergence\n",
    "        if np.allclose(centroids, new_centroids):\n",
    "            break\n",
    "        \n",
    "        centroids = new_centroids\n",
    "    \n",
    "    return clusters, centroids"
   ]
  },
  {
   "cell_type": "code",
   "execution_count": null,
   "id": "17548cec-bdff-40ce-98b3-9b728874f1de",
   "metadata": {},
   "outputs": [],
   "source": [
    "if __name__ == \"__main__\":\n",
    "    print_circuit_once = False\n",
    "    # Sample 3D data\n",
    "    data = np.array([\n",
    "    [1.2, 3.1], [1.5, 2.8], [0.8, 3.0], [5.5, 8.1], [6.0, 7.8],\n",
    "    [5.8, 8.5], [9.1, 2.2], [8.7, 1.8], [9.5, 2.5], [1.3, 3.2],\n",
    "    [1.0, 2.9], [5.7, 8.0], [5.9, 7.5], [9.0, 2.0], [8.5, 2.1],\n",
    "    [1.1, 3.3], [1.4, 2.7], [0.9, 3.2], [5.6, 7.9], [5.7, 8.3],\n",
    "    [8.9, 2.3], [9.2, 2.1], [8.8, 2.4], [1.2, 3.0], [1.3, 2.8],\n",
    "    [5.9, 8.2], [5.5, 7.7], [9.1, 2.2], [8.6, 2.0], [5.8, 8.1]\n",
    "])\n",
    "\n",
    "    # Run Quantum K-means with k=2 clusters\n",
    "    k = 2\n",
    "    clusters, centroids = quantum_kmeans(data, k)\n",
    "    \n",
    "    for i in range(k):\n",
    "        print(\"Final Cluster\",i+1,\"assignments:\", clusters[i])\n",
    "        print(\"Final Cluster\",i+1,\"Centroids:\", centroids[i])\n",
    "        print(\"\\n\")\n"
   ]
  },
  {
   "cell_type": "code",
   "execution_count": null,
   "id": "e1929513-51a5-4a99-8018-e86b3503aca5",
   "metadata": {},
   "outputs": [],
   "source": []
  }
 ],
 "metadata": {
  "kernelspec": {
   "display_name": "Python 3",
   "language": "python",
   "name": "python3"
  },
  "language_info": {
   "codemirror_mode": {
    "name": "ipython",
    "version": 3
   },
   "file_extension": ".py",
   "mimetype": "text/x-python",
   "name": "python",
   "nbconvert_exporter": "python",
   "pygments_lexer": "ipython3",
   "version": "3.12.0"
  }
 },
 "nbformat": 4,
 "nbformat_minor": 5
}
