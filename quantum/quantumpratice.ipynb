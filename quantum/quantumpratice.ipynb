{
 "cells": [
  {
   "cell_type": "code",
   "execution_count": 1,
   "metadata": {},
   "outputs": [],
   "source": [
    "import qiskit\n",
    "from qiskit import QuantumCircuit\n",
    "from qiskit.visualization import plot_histogram\n",
    "import matplotlib.pyplot as plt\n"
   ]
  },
  {
   "cell_type": "code",
   "execution_count": 21,
   "metadata": {},
   "outputs": [
    {
     "data": {
      "text/html": [
       "<pre style=\"word-wrap: normal;white-space: pre;background: #fff0;line-height: 1.1;font-family: &quot;Courier New&quot;,Courier,monospace\">                 ┌─┐      \n",
       "  q_0: ───────■──┤M├────■─\n",
       "       ┌───┐  │  └╥┘┌─┐ │ \n",
       "  q_1: ┤ H ├──┼───╫─┤M├─■─\n",
       "       └───┘┌─┴─┐ ║ └╥┘   \n",
       "  q_2: ─────┤ X ├─╫──╫────\n",
       "            └───┘ ║  ║    \n",
       "fghjk: ───────────╫──╫────\n",
       "                  ║  ║    \n",
       "  c: 3/═══════════╩══╩════\n",
       "                  1  1    </pre>"
      ],
      "text/plain": [
       "                 ┌─┐      \n",
       "  q_0: ───────■──┤M├────■─\n",
       "       ┌───┐  │  └╥┘┌─┐ │ \n",
       "  q_1: ┤ H ├──┼───╫─┤M├─■─\n",
       "       └───┘┌─┴─┐ ║ └╥┘   \n",
       "  q_2: ─────┤ X ├─╫──╫────\n",
       "            └───┘ ║  ║    \n",
       "fghjk: ───────────╫──╫────\n",
       "                  ║  ║    \n",
       "  c: 3/═══════════╩══╩════\n",
       "                  1  1    "
      ]
     },
     "execution_count": 21,
     "metadata": {},
     "output_type": "execute_result"
    }
   ],
   "source": [
    "from qiskit import QuantumCircuit, QuantumRegister\n",
    "\n",
    "# Create a circuit with 3 working qubits and 3 classical bits\n",
    "qc = QuantumCircuit(3, 3)\n",
    "an = QuantumRegister(1,\"fghjk\")\n",
    "qc.add_register(an)\n",
    "\n",
    "qc.h(1)\n",
    "qc.cx(0,2)\n",
    "qc.measure(0,1)\n",
    "qc.measure(1,1)\n",
    "qc.cz(1,0)\n",
    "qc.draw()"
   ]
  }
 ],
 "metadata": {
  "kernelspec": {
   "display_name": "base",
   "language": "python",
   "name": "python3"
  },
  "language_info": {
   "codemirror_mode": {
    "name": "ipython",
    "version": 3
   },
   "file_extension": ".py",
   "mimetype": "text/x-python",
   "name": "python",
   "nbconvert_exporter": "python",
   "pygments_lexer": "ipython3",
   "version": "3.11.8"
  }
 },
 "nbformat": 4,
 "nbformat_minor": 2
}
